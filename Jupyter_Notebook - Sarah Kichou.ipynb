{
 "cells": [
  {
   "cell_type": "markdown",
   "metadata": {},
   "source": [
    "<center>\n",
    "    <img src=\"https://s3-api.us-geo.objectstorage.softlayer.net/cf-courses-data/CognitiveClass/Logos/organization_logo/organization_logo.png\" width=\"300\" alt=\"cognitiveclass.ai logo\"  />\n",
    "</center>\n"
   ]
  },
  {
   "cell_type": "markdown",
   "metadata": {},
   "source": [
    "# My Jupyter Notebook on IBM Watson Studio"
   ]
  },
  {
   "cell_type": "markdown",
   "metadata": {},
   "source": [
    "**Sarah Kichou**"
   ]
  },
  {
   "cell_type": "markdown",
   "metadata": {},
   "source": [
    "I am currently working in the field of Data Migration."
   ]
  },
  {
   "cell_type": "markdown",
   "metadata": {},
   "source": [
    "*I am interested in data science because of the wide range of applications it has. It brings together my knack for solving problems and mathematics.*"
   ]
  },
  {
   "cell_type": "markdown",
   "metadata": {},
   "source": [
    "**The following code demonstrates how long it takes me to crochet one beanie for a client**"
   ]
  },
  {
   "cell_type": "code",
   "execution_count": 48,
   "metadata": {},
   "outputs": [
    {
     "name": "stdout",
     "output_type": "stream",
     "text": [
      "The following are the lengths of time each type of stitch will take:\n",
      "\n",
      "Foundation chain = 5 minutes\n",
      "1 row of double crochet = 20 minutes\n",
      "1 row of single crochet = 12 minutes\n",
      "\n",
      "The beanie requires 1 foundation chain, 18 rows of double crochet and 5 rows of single crochet. \n",
      "\n",
      "So...\n",
      "It will take 8.48 hours\n"
     ]
    }
   ],
   "source": [
    "print('''The following are the lengths of time each type of stitch will take:\n",
    "\n",
    "Foundation chain = 5 minutes\n",
    "1 row of double crochet = 20 minutes\n",
    "1 row of single crochet = 12 minutes\n",
    "\n",
    "The beanie requires 1 foundation chain, 18 rows of double crochet and 5 rows of single crochet. \n",
    "\n",
    "So...''')\n",
    "\n",
    "x = 5\n",
    "y = 20\n",
    "z = 12\n",
    "\n",
    "ans = (x+18*y+12*z)/60\n",
    "\n",
    "\n",
    "print(\"It will take %.2f hours\" % ans)\n",
    "\n"
   ]
  },
  {
   "cell_type": "markdown",
   "metadata": {},
   "source": [
    "1. Item\n",
    "2. [Item](https://www.youtube.com/watch?v=F8Ytza9w1YY&ab_channel=NessmaTV)\n",
    "3. [Item](https://en.wikipedia.org/wiki/Hamza_Bendelladj)\n",
    "4. Item\n",
    "5. ~~Item~~"
   ]
  },
  {
   "cell_type": "code",
   "execution_count": null,
   "metadata": {},
   "outputs": [],
   "source": []
  }
 ],
 "metadata": {
  "kernelspec": {
   "display_name": "Python",
   "language": "python",
   "name": "conda-env-python-py"
  },
  "language_info": {
   "codemirror_mode": {
    "name": "ipython",
    "version": 3
   },
   "file_extension": ".py",
   "mimetype": "text/x-python",
   "name": "python",
   "nbconvert_exporter": "python",
   "pygments_lexer": "ipython3",
   "version": "3.7.12"
  }
 },
 "nbformat": 4,
 "nbformat_minor": 4
}
